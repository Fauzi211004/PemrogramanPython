{
 "cells": [
  {
   "cell_type": "code",
   "execution_count": 12,
   "id": "70ef66e3",
   "metadata": {},
   "outputs": [
    {
     "name": "stdout",
     "output_type": "stream",
     "text": [
      "Masukan Usia Anda = 14\n",
      "Apakah kamu masih sekolah(Y/N) = Y\n",
      "-----------------------------------------------\n",
      "Anda masuk kategori Penduduk bukan miskin\n"
     ]
    }
   ],
   "source": [
    "umur = int(input('Masukan Usia Anda = '))\n",
    "if umur >= 18:\n",
    "    statusKerja = str(input('Apakah kamu sudah bekerja(Y/N) = '))\n",
    "    if statusKerja == 'Y':\n",
    "        gaji = int(input('Masukan pendapatan perbulan = '))\n",
    "        tanggungan = int(input('Masukan jumlah tangungan = '))\n",
    "        biayaHidup = gaji/tanggungan\n",
    "        if (biayaHidup <300000):\n",
    "            print('-----------------------------------------------')\n",
    "            print('Anda masuk kategori Penduduk miskin')\n",
    "        else:\n",
    "            print('-----------------------------------------------')\n",
    "            print('Anda masuk kategori Penduduk bukan miskin')\n",
    "    else:\n",
    "        print('-----------------------------------------------')\n",
    "        print('Anda masuk kategori Penduduk miskin')\n",
    "else:\n",
    "    statusSekolah = str(input('Apakah kamu masih sekolah(Y/N) = '))\n",
    "    if statusSekolah == 'Y':\n",
    "        print('-----------------------------------------------')\n",
    "        print('Anda masuk kategori Penduduk bukan miskin')\n",
    "    else:\n",
    "        print('-----------------------------------------------')\n",
    "        print('Anda masuk kategori Penduduk miskin')"
   ]
  },
  {
   "cell_type": "code",
   "execution_count": null,
   "id": "35d9f422",
   "metadata": {},
   "outputs": [],
   "source": []
  }
 ],
 "metadata": {
  "kernelspec": {
   "display_name": "Python 3 (ipykernel)",
   "language": "python",
   "name": "python3"
  },
  "language_info": {
   "codemirror_mode": {
    "name": "ipython",
    "version": 3
   },
   "file_extension": ".py",
   "mimetype": "text/x-python",
   "name": "python",
   "nbconvert_exporter": "python",
   "pygments_lexer": "ipython3",
   "version": "3.9.12"
  }
 },
 "nbformat": 4,
 "nbformat_minor": 5
}
